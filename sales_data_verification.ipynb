{
 "cells": [
  {
   "cell_type": "code",
   "execution_count": 1,
   "metadata": {},
   "outputs": [],
   "source": [
    "import pandas as pd"
   ]
  },
  {
   "cell_type": "code",
   "execution_count": 3,
   "metadata": {},
   "outputs": [],
   "source": [
    "df = pd.read_csv('sales-data.txt')"
   ]
  },
  {
   "cell_type": "code",
   "execution_count": 8,
   "metadata": {},
   "outputs": [
    {
     "data": {
      "text/html": [
       "<div>\n",
       "<style scoped>\n",
       "    .dataframe tbody tr th:only-of-type {\n",
       "        vertical-align: middle;\n",
       "    }\n",
       "\n",
       "    .dataframe tbody tr th {\n",
       "        vertical-align: top;\n",
       "    }\n",
       "\n",
       "    .dataframe thead th {\n",
       "        text-align: right;\n",
       "    }\n",
       "</style>\n",
       "<table border=\"1\" class=\"dataframe\">\n",
       "  <thead>\n",
       "    <tr style=\"text-align: right;\">\n",
       "      <th></th>\n",
       "      <th>Date</th>\n",
       "      <th>SKU</th>\n",
       "      <th>Unit Price</th>\n",
       "      <th>Quantity</th>\n",
       "      <th>Total Price</th>\n",
       "    </tr>\n",
       "  </thead>\n",
       "  <tbody>\n",
       "    <tr>\n",
       "      <th>0</th>\n",
       "      <td>2019-01-01</td>\n",
       "      <td>Death by Chocolate</td>\n",
       "      <td>180</td>\n",
       "      <td>5</td>\n",
       "      <td>900</td>\n",
       "    </tr>\n",
       "    <tr>\n",
       "      <th>1</th>\n",
       "      <td>2019-01-01</td>\n",
       "      <td>Cake Fudge</td>\n",
       "      <td>150</td>\n",
       "      <td>1</td>\n",
       "      <td>150</td>\n",
       "    </tr>\n",
       "    <tr>\n",
       "      <th>2</th>\n",
       "      <td>2019-01-01</td>\n",
       "      <td>Cake Fudge</td>\n",
       "      <td>150</td>\n",
       "      <td>1</td>\n",
       "      <td>150</td>\n",
       "    </tr>\n",
       "    <tr>\n",
       "      <th>3</th>\n",
       "      <td>2019-01-01</td>\n",
       "      <td>Cake Fudge</td>\n",
       "      <td>150</td>\n",
       "      <td>3</td>\n",
       "      <td>450</td>\n",
       "    </tr>\n",
       "    <tr>\n",
       "      <th>4</th>\n",
       "      <td>2019-01-01</td>\n",
       "      <td>Death by Chocolate</td>\n",
       "      <td>180</td>\n",
       "      <td>1</td>\n",
       "      <td>180</td>\n",
       "    </tr>\n",
       "  </tbody>\n",
       "</table>\n",
       "</div>"
      ],
      "text/plain": [
       "         Date                 SKU  Unit Price  Quantity  Total Price\n",
       "0  2019-01-01  Death by Chocolate         180         5          900\n",
       "1  2019-01-01          Cake Fudge         150         1          150\n",
       "2  2019-01-01          Cake Fudge         150         1          150\n",
       "3  2019-01-01          Cake Fudge         150         3          450\n",
       "4  2019-01-01  Death by Chocolate         180         1          180"
      ]
     },
     "execution_count": 8,
     "metadata": {},
     "output_type": "execute_result"
    }
   ],
   "source": [
    "df.head()"
   ]
  },
  {
   "cell_type": "code",
   "execution_count": 5,
   "metadata": {},
   "outputs": [
    {
     "data": {
      "text/plain": [
       "4583270"
      ]
     },
     "execution_count": 5,
     "metadata": {},
     "output_type": "execute_result"
    }
   ],
   "source": [
    "sum(df['Total Price'])"
   ]
  },
  {
   "cell_type": "code",
   "execution_count": 6,
   "metadata": {},
   "outputs": [],
   "source": [
    "month_name = {'01':'January','02':'February','03':'March'}"
   ]
  },
  {
   "cell_type": "code",
   "execution_count": 7,
   "metadata": {},
   "outputs": [],
   "source": [
    "def month_from_date(date):\n",
    "    return month_name[date.split('-')[1]]"
   ]
  },
  {
   "cell_type": "code",
   "execution_count": 9,
   "metadata": {},
   "outputs": [],
   "source": [
    "df['Month'] = df['Date'].map(month_from_date)"
   ]
  },
  {
   "cell_type": "code",
   "execution_count": 10,
   "metadata": {},
   "outputs": [
    {
     "data": {
      "text/html": [
       "<div>\n",
       "<style scoped>\n",
       "    .dataframe tbody tr th:only-of-type {\n",
       "        vertical-align: middle;\n",
       "    }\n",
       "\n",
       "    .dataframe tbody tr th {\n",
       "        vertical-align: top;\n",
       "    }\n",
       "\n",
       "    .dataframe thead th {\n",
       "        text-align: right;\n",
       "    }\n",
       "</style>\n",
       "<table border=\"1\" class=\"dataframe\">\n",
       "  <thead>\n",
       "    <tr style=\"text-align: right;\">\n",
       "      <th></th>\n",
       "      <th>Date</th>\n",
       "      <th>SKU</th>\n",
       "      <th>Unit Price</th>\n",
       "      <th>Quantity</th>\n",
       "      <th>Total Price</th>\n",
       "      <th>Month</th>\n",
       "    </tr>\n",
       "  </thead>\n",
       "  <tbody>\n",
       "    <tr>\n",
       "      <th>0</th>\n",
       "      <td>2019-01-01</td>\n",
       "      <td>Death by Chocolate</td>\n",
       "      <td>180</td>\n",
       "      <td>5</td>\n",
       "      <td>900</td>\n",
       "      <td>January</td>\n",
       "    </tr>\n",
       "    <tr>\n",
       "      <th>1</th>\n",
       "      <td>2019-01-01</td>\n",
       "      <td>Cake Fudge</td>\n",
       "      <td>150</td>\n",
       "      <td>1</td>\n",
       "      <td>150</td>\n",
       "      <td>January</td>\n",
       "    </tr>\n",
       "    <tr>\n",
       "      <th>2</th>\n",
       "      <td>2019-01-01</td>\n",
       "      <td>Cake Fudge</td>\n",
       "      <td>150</td>\n",
       "      <td>1</td>\n",
       "      <td>150</td>\n",
       "      <td>January</td>\n",
       "    </tr>\n",
       "    <tr>\n",
       "      <th>3</th>\n",
       "      <td>2019-01-01</td>\n",
       "      <td>Cake Fudge</td>\n",
       "      <td>150</td>\n",
       "      <td>3</td>\n",
       "      <td>450</td>\n",
       "      <td>January</td>\n",
       "    </tr>\n",
       "    <tr>\n",
       "      <th>4</th>\n",
       "      <td>2019-01-01</td>\n",
       "      <td>Death by Chocolate</td>\n",
       "      <td>180</td>\n",
       "      <td>1</td>\n",
       "      <td>180</td>\n",
       "      <td>January</td>\n",
       "    </tr>\n",
       "  </tbody>\n",
       "</table>\n",
       "</div>"
      ],
      "text/plain": [
       "         Date                 SKU  Unit Price  Quantity  Total Price    Month\n",
       "0  2019-01-01  Death by Chocolate         180         5          900  January\n",
       "1  2019-01-01          Cake Fudge         150         1          150  January\n",
       "2  2019-01-01          Cake Fudge         150         1          150  January\n",
       "3  2019-01-01          Cake Fudge         150         3          450  January\n",
       "4  2019-01-01  Death by Chocolate         180         1          180  January"
      ]
     },
     "execution_count": 10,
     "metadata": {},
     "output_type": "execute_result"
    }
   ],
   "source": [
    "df.head()"
   ]
  },
  {
   "cell_type": "code",
   "execution_count": 12,
   "metadata": {},
   "outputs": [
    {
     "data": {
      "text/html": [
       "<div>\n",
       "<style scoped>\n",
       "    .dataframe tbody tr th:only-of-type {\n",
       "        vertical-align: middle;\n",
       "    }\n",
       "\n",
       "    .dataframe tbody tr th {\n",
       "        vertical-align: top;\n",
       "    }\n",
       "\n",
       "    .dataframe thead th {\n",
       "        text-align: right;\n",
       "    }\n",
       "</style>\n",
       "<table border=\"1\" class=\"dataframe\">\n",
       "  <thead>\n",
       "    <tr style=\"text-align: right;\">\n",
       "      <th></th>\n",
       "      <th>Unit Price</th>\n",
       "      <th>Quantity</th>\n",
       "      <th>Total Price</th>\n",
       "    </tr>\n",
       "    <tr>\n",
       "      <th>Month</th>\n",
       "      <th></th>\n",
       "      <th></th>\n",
       "      <th></th>\n",
       "    </tr>\n",
       "  </thead>\n",
       "  <tbody>\n",
       "    <tr>\n",
       "      <th>February</th>\n",
       "      <td>469580</td>\n",
       "      <td>13152</td>\n",
       "      <td>1422350</td>\n",
       "    </tr>\n",
       "    <tr>\n",
       "      <th>January</th>\n",
       "      <td>468330</td>\n",
       "      <td>13200</td>\n",
       "      <td>1421330</td>\n",
       "    </tr>\n",
       "    <tr>\n",
       "      <th>March</th>\n",
       "      <td>575760</td>\n",
       "      <td>15983</td>\n",
       "      <td>1739590</td>\n",
       "    </tr>\n",
       "  </tbody>\n",
       "</table>\n",
       "</div>"
      ],
      "text/plain": [
       "          Unit Price  Quantity  Total Price\n",
       "Month                                      \n",
       "February      469580     13152      1422350\n",
       "January       468330     13200      1421330\n",
       "March         575760     15983      1739590"
      ]
     },
     "execution_count": 12,
     "metadata": {},
     "output_type": "execute_result"
    }
   ],
   "source": [
    "df.groupby('Month').sum()"
   ]
  },
  {
   "cell_type": "code",
   "execution_count": 36,
   "metadata": {},
   "outputs": [
    {
     "data": {
      "text/plain": [
       "Month     SKU                          \n",
       "March     Hot Chocolate Fudge              3100\n",
       "January   Hot Chocolate Fudge              2673\n",
       "February  Hot Chocolate Fudge              2636\n",
       "March     Cake Fudge                       2408\n",
       "          Vanilla Double Scoop             2204\n",
       "January   Vanilla Double Scoop             2101\n",
       "February  Vanilla Double Scoop             2082\n",
       "          Cake Fudge                       1878\n",
       "January   Cake Fudge                       1771\n",
       "March     Death by Chocolate               1696\n",
       "          Vanilla Single Scoop             1682\n",
       "          Butterscotch Single Scoop        1676\n",
       "January   Vanilla Single Scoop             1398\n",
       "          Butterscotch Single Scoop        1374\n",
       "February  Death by Chocolate               1287\n",
       "          Butterscotch Single Scoop        1273\n",
       "          Vanilla Single Scoop             1269\n",
       "January   Death by Chocolate               1238\n",
       "March     Cafe Caramel                      768\n",
       "January   Cafe Caramel                      751\n",
       "February  Cafe Caramel                      670\n",
       "March     Dry Fruit Single Scoop            191\n",
       "          Dry Fruit Double Scoop            185\n",
       "January   Dry Fruit Double Scoop            182\n",
       "March     Chocolate Europa Double Scoop     177\n",
       "          Caramel Crunch Single Scoop       175\n",
       "          Chocolate Europa Single Scoop     174\n",
       "February  Dry Fruit Single Scoop            174\n",
       "January   Caramel Crunch Single Scoop       168\n",
       "March     Caramel Crunch Double Scoop       167\n",
       "                                           ... \n",
       "February  Rocky Road Single Scoop           137\n",
       "January   Rocky Road Single Scoop           133\n",
       "February  Caramel Crunch Double Scoop       128\n",
       "          Butterscotch Double Scoop         121\n",
       "January   Chocolate Europa Single Scoop     116\n",
       "          Pista Single Scoop                113\n",
       "          Butterscotch Double Scoop         111\n",
       "          Chocolate Europa Double Scoop     104\n",
       "          Fig and Honey Double Scoop        100\n",
       "          Fig and Honey Single Scoop         98\n",
       "March     Dew Drop Sundae                    88\n",
       "January   Dry Fruit Single Scoop             86\n",
       "          Trilogy                            85\n",
       "March     Mint Fudge                         85\n",
       "          Trilogy                            85\n",
       "February  Caramel Crunch Single Scoop        83\n",
       "March     Banana Split                       74\n",
       "January   Banana Split                       73\n",
       "March     Almond Fudge                       71\n",
       "January   Almond Fudge                       68\n",
       "February  Trilogy                            68\n",
       "January   Mint Fudge                         65\n",
       "February  Rocky Road Double Scoop            63\n",
       "          Almond Fudge                       63\n",
       "January   Dew Drop Sundae                    58\n",
       "          Rocky Road Double Scoop            58\n",
       "February  Banana Split                       58\n",
       "          Mint Fudge                         57\n",
       "March     Rocky Road Double Scoop            57\n",
       "February  Dew Drop Sundae                    47\n",
       "Name: Quantity, Length: 75, dtype: int64"
      ]
     },
     "execution_count": 36,
     "metadata": {},
     "output_type": "execute_result"
    }
   ],
   "source": [
    "df.groupby(['Month','SKU']).sum()['Quantity'].sort_values(ascending = False)"
   ]
  },
  {
   "cell_type": "code",
   "execution_count": 46,
   "metadata": {},
   "outputs": [
    {
     "data": {
      "text/html": [
       "<div>\n",
       "<style scoped>\n",
       "    .dataframe tbody tr th:only-of-type {\n",
       "        vertical-align: middle;\n",
       "    }\n",
       "\n",
       "    .dataframe tbody tr th {\n",
       "        vertical-align: top;\n",
       "    }\n",
       "\n",
       "    .dataframe thead th {\n",
       "        text-align: right;\n",
       "    }\n",
       "</style>\n",
       "<table border=\"1\" class=\"dataframe\">\n",
       "  <thead>\n",
       "    <tr style=\"text-align: right;\">\n",
       "      <th></th>\n",
       "      <th>Unit Price</th>\n",
       "      <th>Quantity</th>\n",
       "      <th>Total Price</th>\n",
       "    </tr>\n",
       "    <tr>\n",
       "      <th>Month</th>\n",
       "      <th></th>\n",
       "      <th></th>\n",
       "      <th></th>\n",
       "    </tr>\n",
       "  </thead>\n",
       "  <tbody>\n",
       "    <tr>\n",
       "      <th>February</th>\n",
       "      <td>120.0</td>\n",
       "      <td>3.097532</td>\n",
       "      <td>371.703878</td>\n",
       "    </tr>\n",
       "    <tr>\n",
       "      <th>January</th>\n",
       "      <td>120.0</td>\n",
       "      <td>3.030612</td>\n",
       "      <td>363.673469</td>\n",
       "    </tr>\n",
       "    <tr>\n",
       "      <th>March</th>\n",
       "      <td>120.0</td>\n",
       "      <td>2.955195</td>\n",
       "      <td>354.623451</td>\n",
       "    </tr>\n",
       "  </tbody>\n",
       "</table>\n",
       "</div>"
      ],
      "text/plain": [
       "          Unit Price  Quantity  Total Price\n",
       "Month                                      \n",
       "February       120.0  3.097532   371.703878\n",
       "January        120.0  3.030612   363.673469\n",
       "March          120.0  2.955195   354.623451"
      ]
     },
     "execution_count": 46,
     "metadata": {},
     "output_type": "execute_result"
    }
   ],
   "source": [
    "df[df.SKU == 'Hot Chocolate Fudge'].groupby('Month').mean()"
   ]
  }
 ],
 "metadata": {
  "kernelspec": {
   "display_name": "Python 3",
   "language": "python",
   "name": "python3"
  },
  "language_info": {
   "codemirror_mode": {
    "name": "ipython",
    "version": 3
   },
   "file_extension": ".py",
   "mimetype": "text/x-python",
   "name": "python",
   "nbconvert_exporter": "python",
   "pygments_lexer": "ipython3",
   "version": "3.7.3"
  }
 },
 "nbformat": 4,
 "nbformat_minor": 2
}
